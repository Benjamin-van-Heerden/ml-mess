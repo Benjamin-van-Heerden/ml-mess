{
 "cells": [
  {
   "cell_type": "code",
   "execution_count": 2,
   "metadata": {},
   "outputs": [
    {
     "name": "stderr",
     "output_type": "stream",
     "text": [
      "/tmp/ipykernel_9160/47578708.py:11: DeprecationWarning: `set_matplotlib_formats` is deprecated since IPython 7.23, directly use `matplotlib_inline.backend_inline.set_matplotlib_formats()`\n",
      "  set_matplotlib_formats('svg', 'pdf') # For export\n"
     ]
    }
   ],
   "source": [
    "## Standard libraries\n",
    "import os\n",
    "import math\n",
    "import numpy as np\n",
    "import time\n",
    "\n",
    "## Imports for plotting\n",
    "import matplotlib.pyplot as plt\n",
    "%matplotlib inline\n",
    "from IPython.display import set_matplotlib_formats\n",
    "set_matplotlib_formats('svg', 'pdf') # For export\n",
    "from matplotlib.colors import to_rgba\n",
    "import seaborn as sns\n",
    "sns.set()\n",
    "\n",
    "## Progress bar\n",
    "from tqdm.notebook import tqdm"
   ]
  },
  {
   "cell_type": "code",
   "execution_count": 3,
   "metadata": {},
   "outputs": [
    {
     "name": "stdout",
     "output_type": "stream",
     "text": [
      "Using torch 1.13.0\n"
     ]
    }
   ],
   "source": [
    "import torch\n",
    "print(\"Using torch\", torch.__version__)"
   ]
  },
  {
   "cell_type": "code",
   "execution_count": 4,
   "metadata": {},
   "outputs": [
    {
     "data": {
      "text/plain": [
       "<torch._C.Generator at 0x7f8558098370>"
      ]
     },
     "execution_count": 4,
     "metadata": {},
     "output_type": "execute_result"
    }
   ],
   "source": [
    "torch.manual_seed(42) # Setting the seed"
   ]
  },
  {
   "attachments": {},
   "cell_type": "markdown",
   "metadata": {},
   "source": [
    "Suppose we have the function:\n",
    "\n",
    "$$y = \\frac{1}{|x|}\\sum_i \\left[(x_i + 2)^2 + 3\\right]$$\n",
    "\n",
    "with $x$ a 3-element vector. \n",
    "\n",
    "Computing the gradient of $y$ with respect to $x$ is straightforward:"
   ]
  },
  {
   "cell_type": "code",
   "execution_count": 8,
   "metadata": {},
   "outputs": [
    {
     "name": "stdout",
     "output_type": "stream",
     "text": [
      "tensor([0., 1., 2.], requires_grad=True)\n"
     ]
    }
   ],
   "source": [
    "x = torch.arange(3, dtype=torch.float32, requires_grad=True)\n",
    "print(x)\n",
    "a = x + 2\n",
    "b = a ** 2\n",
    "c = b + 3\n",
    "y = c.mean()\n",
    "\n",
    "y.backward()"
   ]
  },
  {
   "cell_type": "code",
   "execution_count": 7,
   "metadata": {},
   "outputs": [
    {
     "data": {
      "text/plain": [
       "tensor([1.3333, 2.0000, 2.6667])"
      ]
     },
     "execution_count": 7,
     "metadata": {},
     "output_type": "execute_result"
    }
   ],
   "source": [
    "x.grad"
   ]
  },
  {
   "attachments": {},
   "cell_type": "markdown",
   "metadata": {},
   "source": [
    "Indeed if we were to manually calculate the gradient, we would get:\n",
    "\n",
    "$$\\frac{\\partial y}{\\partial x_i} = \\frac{\\partial y}{\\partial c_i}\\frac{\\partial c_i}{\\partial b_i}\\frac{\\partial b_i}{\\partial a_i}\\frac{\\partial a_i}{\\partial x_i}$$\n",
    "\n",
    "Note that we have simplified this equation to index notation, and by using the fact that all operation besides the mean do not combine the elements in the tensor. The partial derivatives are:\n",
    "\n",
    "$$\\frac{\\partial a_i}{\\partial x_i} = 1,\\hspace{1cm}\n",
    "\\frac{\\partial b_i}{\\partial a_i} = 2\\cdot a_i\\hspace{1cm}\n",
    "\\frac{\\partial c_i}{\\partial b_i} = 1\\hspace{1cm}\n",
    "\\frac{\\partial y}{\\partial c_i} = \\frac{1}{3}$$\n",
    "\n",
    "So the gradient is:\n",
    "\n",
    "$$\\frac{\\partial y}{\\partial x} = \\frac{2}{3}\\left[a_1, a_2, a_3\\right]$$\n",
    "\n",
    "Which is indeed correct"
   ]
  },
  {
   "cell_type": "code",
   "execution_count": 9,
   "metadata": {},
   "outputs": [
    {
     "name": "stdout",
     "output_type": "stream",
     "text": [
      "Is the GPU available? True\n"
     ]
    }
   ],
   "source": [
    "# gpu support checked via\n",
    "gpu_avail = torch.cuda.is_available()\n",
    "print(f\"Is the GPU available? {gpu_avail}\")"
   ]
  },
  {
   "cell_type": "code",
   "execution_count": 10,
   "metadata": {},
   "outputs": [
    {
     "name": "stdout",
     "output_type": "stream",
     "text": [
      "Device cuda\n"
     ]
    }
   ],
   "source": [
    "device = torch.device(\"cuda\") if torch.cuda.is_available() else torch.device(\"cpu\")\n",
    "print(\"Device\", device)"
   ]
  },
  {
   "cell_type": "code",
   "execution_count": 13,
   "metadata": {},
   "outputs": [
    {
     "name": "stdout",
     "output_type": "stream",
     "text": [
      "tensor([0., 1., 2.], device='cuda:0')\n",
      "tensor([0., 1., 2.], device='cuda:0')\n"
     ]
    }
   ],
   "source": [
    "# torch makes sending tensors to the GPU relatively easy too\n",
    "x1 = torch.arange(3, dtype=torch.float32)\n",
    "x1 = x1.to(device)\n",
    "\n",
    "# or\n",
    "x2 = torch.arange(3, dtype=torch.float32, device=device)\n",
    "print(x1)\n",
    "print(x2)"
   ]
  },
  {
   "cell_type": "code",
   "execution_count": 18,
   "metadata": {},
   "outputs": [
    {
     "name": "stdout",
     "output_type": "stream",
     "text": [
      "CPU time: 0.56866s\n",
      "GPU time: 0.09019s\n",
      "Speedup: 6.30x\n"
     ]
    }
   ],
   "source": [
    "# GPU operations can have significant performace benefits\n",
    "\n",
    "x = torch.randn(5000, 5000)\n",
    "\n",
    "## CPU version\n",
    "start_time = time.time()\n",
    "_ = torch.matmul(x, x)\n",
    "end_time = time.time()\n",
    "print(f\"CPU time: {(end_time - start_time):6.5f}s\")\n",
    "\n",
    "## GPU version\n",
    "x = x.to(device)\n",
    "_ = torch.matmul(x, x)  # First operation to 'burn in' GPU\n",
    "# CUDA is asynchronous, so we need to use different timing functions\n",
    "start = torch.cuda.Event(enable_timing=True)\n",
    "end = torch.cuda.Event(enable_timing=True)\n",
    "start.record()\n",
    "_ = torch.matmul(x, x)\n",
    "end.record()\n",
    "torch.cuda.synchronize()  # Waits for everything to finish running on the GPU\n",
    "print(f\"GPU time: {0.001 * start.elapsed_time(end):6.5f}s\")  # Milliseconds to seconds\n",
    "\n",
    "print(f\"Speedup: {(end_time - start_time) / (0.001 * start.elapsed_time(end)):.2f}x\")\n",
    "# on beefier GPU, speedup can be 50-100x"
   ]
  },
  {
   "cell_type": "code",
   "execution_count": 19,
   "metadata": {},
   "outputs": [],
   "source": [
    "# seeding random numbers works a bit differently on GPU\n",
    "\n",
    "# GPU operations have a separate seed we also want to set\n",
    "if torch.cuda.is_available():\n",
    "    torch.cuda.manual_seed(42)\n",
    "    torch.cuda.manual_seed_all(42)\n",
    "\n",
    "# Additionally, some operations on a GPU are implemented stochastic for efficiency\n",
    "# We want to ensure that all operations are deterministic on GPU (if used) for reproducibility\n",
    "torch.backends.cudnn.deterministic = True\n",
    "torch.backends.cudnn.benchmark = False\n",
    "\n",
    "# Note that due to different GPU architectures, running the same code on different GPUs does not guarantee the same random numbers."
   ]
  },
  {
   "attachments": {},
   "cell_type": "markdown",
   "metadata": {},
   "source": [
    "## Example\n",
    "\n",
    "### Continuous XOR"
   ]
  },
  {
   "cell_type": "code",
   "execution_count": 20,
   "metadata": {},
   "outputs": [],
   "source": [
    "import torch.nn as nn\n",
    "import torch.nn.functional as F"
   ]
  },
  {
   "cell_type": "code",
   "execution_count": 21,
   "metadata": {},
   "outputs": [],
   "source": [
    "class SimpleClassifier(nn.Module):\n",
    "    def __init__(self, num_inputs, num_hidden, num_outputs):\n",
    "        super().__init__()\n",
    "        self.linear1 = nn.Linear(num_inputs, num_hidden)\n",
    "        self.act_fn = nn.Tanh()\n",
    "        self.linear2 = nn.Linear(num_hidden, num_outputs)\n",
    "\n",
    "    def forward(self, x):\n",
    "        x = self.linear1(x)\n",
    "        x = self.act_fn(x)\n",
    "        x = self.linear2(x)\n",
    "        return x"
   ]
  },
  {
   "cell_type": "code",
   "execution_count": 22,
   "metadata": {},
   "outputs": [
    {
     "name": "stdout",
     "output_type": "stream",
     "text": [
      "SimpleClassifier(\n",
      "  (linear1): Linear(in_features=2, out_features=4, bias=True)\n",
      "  (act_fn): Tanh()\n",
      "  (linear2): Linear(in_features=4, out_features=1, bias=True)\n",
      ")\n"
     ]
    }
   ],
   "source": [
    "model = SimpleClassifier(num_inputs=2, num_hidden=4, num_outputs=1)\n",
    "# Printing a module shows all its submodules\n",
    "print(model)"
   ]
  },
  {
   "cell_type": "code",
   "execution_count": 23,
   "metadata": {},
   "outputs": [
    {
     "name": "stdout",
     "output_type": "stream",
     "text": [
      "Parameter linear1.weight, shape torch.Size([4, 2])\n",
      "Parameter linear1.bias, shape torch.Size([4])\n",
      "Parameter linear2.weight, shape torch.Size([1, 4])\n",
      "Parameter linear2.bias, shape torch.Size([1])\n"
     ]
    }
   ],
   "source": [
    "# The parameters of a module can be obtained by using its parameters() functions, or named_parameters() to get a name to each parameter object. For our small neural network, we have the following parameters:\n",
    "\n",
    "for name, param in model.named_parameters():\n",
    "    print(f\"Parameter {name}, shape {param.shape}\")"
   ]
  },
  {
   "cell_type": "code",
   "execution_count": 24,
   "metadata": {},
   "outputs": [],
   "source": [
    "# the data\n",
    "import torch.utils.data as data"
   ]
  },
  {
   "cell_type": "code",
   "execution_count": 25,
   "metadata": {},
   "outputs": [],
   "source": [
    "class XORDataset(data.Dataset):\n",
    "    def __init__(self, size, std_dev=0.1):\n",
    "        super().__init__()\n",
    "        self.size = size\n",
    "        self.std_dev = std_dev\n",
    "        self.generate_continuous_xor()\n",
    "\n",
    "    def generate_continuous_xor(self):\n",
    "        data = torch.randint(low=0, high=2, size=(self.size, 2), dtype=torch.float32)\n",
    "        label = (data.sum(dim=1) == 1).float()\n",
    "\n",
    "        # Add noise\n",
    "        data += torch.randn_like(data) * self.std_dev\n",
    "\n",
    "        self.data = data\n",
    "        self.label = label\n",
    "\n",
    "    def __len__(self):\n",
    "        return self.size\n",
    "\n",
    "    def __getitem__(self, index):\n",
    "        return self.data[index], self.label[index]\n",
    "        "
   ]
  },
  {
   "cell_type": "code",
   "execution_count": 26,
   "metadata": {},
   "outputs": [
    {
     "name": "stdout",
     "output_type": "stream",
     "text": [
      "Size of dataset: 200\n",
      "Data point 0: (tensor([1.0484, 0.9858]), tensor(0.))\n"
     ]
    }
   ],
   "source": [
    "dataset = XORDataset(size=200)\n",
    "print(\"Size of dataset:\", len(dataset))\n",
    "print(\"Data point 0:\", dataset[0])"
   ]
  },
  {
   "cell_type": "code",
   "execution_count": 27,
   "metadata": {},
   "outputs": [],
   "source": [
    "def visualize_samples(data, label):\n",
    "    if isinstance(data, torch.Tensor):\n",
    "        data = data.cpu().numpy()\n",
    "    if isinstance(label, torch.Tensor):\n",
    "        label = label.cpu().numpy()\n",
    "    data_0 = data[label == 0]\n",
    "    data_1 = data[label == 1]\n",
    "\n",
    "    plt.figure(figsize=(4,4))\n",
    "    plt.scatter(data_0[:,0], data_0[:,1], edgecolor=\"#333\", label=\"Class 0\")\n",
    "    plt.scatter(data_1[:,0], data_1[:,1], edgecolor=\"#333\", label=\"Class 1\")\n",
    "    plt.title(\"Dataset samples\")\n",
    "    plt.ylabel(r\"$x_2$\")\n",
    "    plt.xlabel(r\"$x_1$\")\n",
    "    plt.legend()"
   ]
  },
  {
   "cell_type": "code",
   "execution_count": 28,
   "metadata": {},
   "outputs": [
    {
     "data": {
      "application/pdf": "[encoded data removed]",
      "image/svg+xml": "<?xml version=\"1.0\" encoding=\"utf-8\" standalone=\"no\"?>\n<!DOCTYPE svg PUBLIC \"-//W3C//DTD SVG 1.1//EN\"\n  \"http://www.w3.org/Graphics/SVG/1.1/DTD/svg11.dtd\">\n<svg xmlns:xlink=\"http://www.w3.org/1999/xlink\" width=\"289.424844pt\" height=\"282.717813pt\" viewBox=\"0 0 289.424844 282.717813\" xmlns=\"http://www.w3.org/2000/svg\" version=\"1.1\">\n <metadata>\n  <rdf:RDF xmlns:dc=\"http://purl.org/dc/elements/1.1/\" xmlns:cc=\"http://creativecommons.org/ns#\" xmlns:rdf=\"http://www.w3.org/1999/02/22-rdf-syntax-ns#\">\n   <cc:Work>\n    <dc:type rdf:resource=\"http://purl.org/dc/dcmitype/StillImage\"/>\n    <dc:date>2022-12-30T21:36:35.489715</dc:date>\n    <dc:format>image/svg+xml</dc:format>\n    <dc:creator>\n     <cc:Agent>\n      <dc:title>Matplotlib v3.5.1, https://matplotlib.org/</dc:title>\n     </cc:Agent>\n    </dc:creator>\n   </cc:Work>\n  </rdf:RDF>\n </metadata>\n <defs>\n  <style type=\"text/css\">*{stroke-linejoin: round; stroke-linecap: butt}</style>\n </defs>\n <g id=\"figure_1\">\n  <g id=\"patch_1\">\n   <path d=\"M 0 282.717813 \nL 289.424844 282.717813 \nL 289.424844 0 \nL 0 0 \nz\n\" style=\"fill: #ffffff\"/>\n  </g>\n  <g id=\"axes_1\">\n   <g id=\"patch_2\">\n    <path d=\"M 59.024844 239.758125 \nL 282.224844 239.758125 \nL 282.224844 22.318125 \nL 59.024844 22.318125 \nz\n\" style=\"fill: #eaeaf2\"/>\n   </g>\n   <g id=\"matplotlib.axis_1\">\n    <g id=\"xtick_1\">\n     <g id=\"line2d_1\">\n      <path d=\"M 104.175013 239.758125 \nL 104.175013 22.318125 \n\" clip-path=\"url(#p1242c8ce5b)\" style=\"fill: none; stroke: #ffffff; stroke-linecap: round\"/>\n     </g>\n     <g id=\"text_1\">\n      <!-- 0.0 -->\n      <g style=\"fill: #262626\" transform=\"translate(95.428294 257.616406)scale(0.11 -0.11)\">\n       <defs>\n        <path id=\"DejaVuSans-30\" d=\"M 2034 4250 \nQ 1547 4250 1301 3770 \nQ 1056 3291 1056 2328 \nQ 1056 1369 1301 889 \nQ 1547 409 2034 409 \nQ 2525 409 2770 889 \nQ 3016 1369 3016 2328 \nQ 3016 3291 2770 3770 \nQ 2525 4250 2034 4250 \nz\nM 2034 4750 \nQ 2819 4750 3233 4129 \nQ 3647 3509 3647 2328 \nQ 3647 1150 3233 529 \nQ 2819 -91 2034 -91 \nQ 1250 -91 836 529 \nQ 422 1150 422 2328 \nQ 422 3509 836 4129 \nQ 1250 4750 2034 4750 \nz\n\" transform=\"scale(0.015625)\"/>\n        <path id=\"DejaVuSans-2e\" d=\"M 684 794 \nL 1344 794 \nL 1344 0 \nL 684 0 \nL 684 794 \nz\n\" transform=\"scale(0.015625)\"/>\n       </defs>\n       <use xlink:href=\"#DejaVuSans-30\"/>\n       <use xlink:href=\"#DejaVuSans-2e\" x=\"63.623047\"/>\n       <use xlink:href=\"#DejaVuSans-30\" x=\"95.410156\"/>\n      </g>\n     </g>\n    </g>\n    <g id=\"xtick_2\">\n     <g id=\"line2d_2\">\n      <path d=\"M 174.604157 239.758125 \nL 174.604157 22.318125 \n\" clip-path=\"url(#p1242c8ce5b)\" style=\"fill: none; stroke: #ffffff; stroke-linecap: round\"/>\n     </g>\n     <g id=\"text_2\">\n      <!-- 0.5 -->\n      <g style=\"fill: #262626\" transform=\"translate(165.857438 257.616406)scale(0.11 -0.11)\">\n       <defs>\n        <path id=\"DejaVuSans-35\" d=\"M 691 4666 \nL 3169 4666 \nL 3169 4134 \nL 1269 4134 \nL 1269 2991 \nQ 1406 3038 1543 3061 \nQ 1681 3084 1819 3084 \nQ 2600 3084 3056 2656 \nQ 3513 2228 3513 1497 \nQ 3513 744 3044 326 \nQ 2575 -91 1722 -91 \nQ 1428 -91 1123 -41 \nQ 819 9 494 109 \nL 494 744 \nQ 775 591 1075 516 \nQ 1375 441 1709 441 \nQ 2250 441 2565 725 \nQ 2881 1009 2881 1497 \nQ 2881 1984 2565 2268 \nQ 2250 2553 1709 2553 \nQ 1456 2553 1204 2497 \nQ 953 2441 691 2322 \nL 691 4666 \nz\n\" transform=\"scale(0.015625)\"/>\n       </defs>\n       <use xlink:href=\"#DejaVuSans-30\"/>\n       <use xlink:href=\"#DejaVuSans-2e\" x=\"63.623047\"/>\n       <use xlink:href=\"#DejaVuSans-35\" x=\"95.410156\"/>\n      </g>\n     </g>\n    </g>\n    <g id=\"xtick_3\">\n     <g id=\"line2d_3\">\n      <path d=\"M 245.033301 239.758125 \nL 245.033301 22.318125 \n\" clip-path=\"url(#p1242c8ce5b)\" style=\"fill: none; stroke: #ffffff; stroke-linecap: round\"/>\n     </g>\n     <g id=\"text_3\">\n      <!-- 1.0 -->\n      <g style=\"fill: #262626\" transform=\"translate(236.286582 257.616406)scale(0.11 -0.11)\">\n       <defs>\n        <path id=\"DejaVuSans-31\" d=\"M 794 531 \nL 1825 531 \nL 1825 4091 \nL 703 3866 \nL 703 4441 \nL 1819 4666 \nL 2450 4666 \nL 2450 531 \nL 3481 531 \nL 3481 0 \nL 794 0 \nL 794 531 \nz\n\" transform=\"scale(0.015625)\"/>\n       </defs>\n       <use xlink:href=\"#DejaVuSans-31\"/>\n       <use xlink:href=\"#DejaVuSans-2e\" x=\"63.623047\"/>\n       <use xlink:href=\"#DejaVuSans-30\" x=\"95.410156\"/>\n      </g>\n     </g>\n    </g>\n    <g id=\"text_4\">\n     <!-- $x_1$ -->\n     <g style=\"fill: #262626\" transform=\"translate(164.204844 273.022188)scale(0.12 -0.12)\">\n      <defs>\n       <path id=\"DejaVuSans-Oblique-78\" d=\"M 3841 3500 \nL 2234 1784 \nL 3219 0 \nL 2559 0 \nL 1819 1388 \nL 531 0 \nL -166 0 \nL 1556 1844 \nL 641 3500 \nL 1300 3500 \nL 1972 2234 \nL 3144 3500 \nL 3841 3500 \nz\n\" transform=\"scale(0.015625)\"/>\n      </defs>\n      <use xlink:href=\"#DejaVuSans-Oblique-78\" transform=\"translate(0 0.3125)\"/>\n      <use xlink:href=\"#DejaVuSans-31\" transform=\"translate(59.179688 -16.09375)scale(0.7)\"/>\n     </g>\n    </g>\n   </g>\n   <g id=\"matplotlib.axis_2\">\n    <g id=\"ytick_1\">\n     <g id=\"line2d_4\">\n      <path d=\"M 59.024844 228.940546 \nL 282.224844 228.940546 \n\" clip-path=\"url(#p1242c8ce5b)\" style=\"fill: none; stroke: #ffffff; stroke-linecap: round\"/>\n     </g>\n     <g id=\"text_5\">\n      <!-- −0.2 -->\n      <g style=\"fill: #262626\" transform=\"translate(22.81375 233.119687)scale(0.11 -0.11)\">\n       <defs>\n        <path id=\"DejaVuSans-2212\" d=\"M 678 2272 \nL 4684 2272 \nL 4684 1741 \nL 678 1741 \nL 678 2272 \nz\n\" transform=\"scale(0.015625)\"/>\n        <path id=\"DejaVuSans-32\" d=\"M 1228 531 \nL 3431 531 \nL 3431 0 \nL 469 0 \nL 469 531 \nQ 828 903 1448 1529 \nQ 2069 2156 2228 2338 \nQ 2531 2678 2651 2914 \nQ 2772 3150 2772 3378 \nQ 2772 3750 2511 3984 \nQ 2250 4219 1831 4219 \nQ 1534 4219 1204 4116 \nQ 875 4013 500 3803 \nL 500 4441 \nQ 881 4594 1212 4672 \nQ 1544 4750 1819 4750 \nQ 2544 4750 2975 4387 \nQ 3406 4025 3406 3419 \nQ 3406 3131 3298 2873 \nQ 3191 2616 2906 2266 \nQ 2828 2175 2409 1742 \nQ 1991 1309 1228 531 \nz\n\" transform=\"scale(0.015625)\"/>\n       </defs>\n       <use xlink:href=\"#DejaVuSans-2212\"/>\n       <use xlink:href=\"#DejaVuSans-30\" x=\"83.789062\"/>\n       <use xlink:href=\"#DejaVuSans-2e\" x=\"147.412109\"/>\n       <use xlink:href=\"#DejaVuSans-32\" x=\"179.199219\"/>\n      </g>\n     </g>\n    </g>\n    <g id=\"ytick_2\">\n     <g id=\"line2d_5\">\n      <path d=\"M 59.024844 201.611482 \nL 282.224844 201.611482 \n\" clip-path=\"url(#p1242c8ce5b)\" style=\"fill: none; stroke: #ffffff; stroke-linecap: round\"/>\n     </g>\n     <g id=\"text_6\">\n      <!-- 0.0 -->\n      <g style=\"fill: #262626\" transform=\"translate(32.031406 205.790623)scale(0.11 -0.11)\">\n       <use xlink:href=\"#DejaVuSans-30\"/>\n       <use xlink:href=\"#DejaVuSans-2e\" x=\"63.623047\"/>\n       <use xlink:href=\"#DejaVuSans-30\" x=\"95.410156\"/>\n      </g>\n     </g>\n    </g>\n    <g id=\"ytick_3\">\n     <g id=\"line2d_6\">\n      <path d=\"M 59.024844 174.282418 \nL 282.224844 174.282418 \n\" clip-path=\"url(#p1242c8ce5b)\" style=\"fill: none; stroke: #ffffff; stroke-linecap: round\"/>\n     </g>\n     <g id=\"text_7\">\n      <!-- 0.2 -->\n      <g style=\"fill: #262626\" transform=\"translate(32.031406 178.461559)scale(0.11 -0.11)\">\n       <use xlink:href=\"#DejaVuSans-30\"/>\n       <use xlink:href=\"#DejaVuSans-2e\" x=\"63.623047\"/>\n       <use xlink:href=\"#DejaVuSans-32\" x=\"95.410156\"/>\n      </g>\n     </g>\n    </g>\n    <g id=\"ytick_4\">\n     <g id=\"line2d_7\">\n      <path d=\"M 59.024844 146.953354 \nL 282.224844 146.953354 \n\" clip-path=\"url(#p1242c8ce5b)\" style=\"fill: none; stroke: #ffffff; stroke-linecap: round\"/>\n     </g>\n     <g id=\"text_8\">\n      <!-- 0.4 -->\n      <g style=\"fill: #262626\" transform=\"translate(32.031406 151.132495)scale(0.11 -0.11)\">\n       <defs>\n        <path id=\"DejaVuSans-34\" d=\"M 2419 4116 \nL 825 1625 \nL 2419 1625 \nL 2419 4116 \nz\nM 2253 4666 \nL 3047 4666 \nL 3047 1625 \nL 3713 1625 \nL 3713 1100 \nL 3047 1100 \nL 3047 0 \nL 2419 0 \nL 2419 1100 \nL 313 1100 \nL 313 1709 \nL 2253 4666 \nz\n\" transform=\"scale(0.015625)\"/>\n       </defs>\n       <use xlink:href=\"#DejaVuSans-30\"/>\n       <use xlink:href=\"#DejaVuSans-2e\" x=\"63.623047\"/>\n       <use xlink:href=\"#DejaVuSans-34\" x=\"95.410156\"/>\n      </g>\n     </g>\n    </g>\n    <g id=\"ytick_5\">\n     <g id=\"line2d_8\">\n      <path d=\"M 59.024844 119.62429 \nL 282.224844 119.62429 \n\" clip-path=\"url(#p1242c8ce5b)\" style=\"fill: none; stroke: #ffffff; stroke-linecap: round\"/>\n     </g>\n     <g id=\"text_9\">\n      <!-- 0.6 -->\n      <g style=\"fill: #262626\" transform=\"translate(32.031406 123.803431)scale(0.11 -0.11)\">\n       <defs>\n        <path id=\"DejaVuSans-36\" d=\"M 2113 2584 \nQ 1688 2584 1439 2293 \nQ 1191 2003 1191 1497 \nQ 1191 994 1439 701 \nQ 1688 409 2113 409 \nQ 2538 409 2786 701 \nQ 3034 994 3034 1497 \nQ 3034 2003 2786 2293 \nQ 2538 2584 2113 2584 \nz\nM 3366 4563 \nL 3366 3988 \nQ 3128 4100 2886 4159 \nQ 2644 4219 2406 4219 \nQ 1781 4219 1451 3797 \nQ 1122 3375 1075 2522 \nQ 1259 2794 1537 2939 \nQ 1816 3084 2150 3084 \nQ 2853 3084 3261 2657 \nQ 3669 2231 3669 1497 \nQ 3669 778 3244 343 \nQ 2819 -91 2113 -91 \nQ 1303 -91 875 529 \nQ 447 1150 447 2328 \nQ 447 3434 972 4092 \nQ 1497 4750 2381 4750 \nQ 2619 4750 2861 4703 \nQ 3103 4656 3366 4563 \nz\n\" transform=\"scale(0.015625)\"/>\n       </defs>\n       <use xlink:href=\"#DejaVuSans-30\"/>\n       <use xlink:href=\"#DejaVuSans-2e\" x=\"63.623047\"/>\n       <use xlink:href=\"#DejaVuSans-36\" x=\"95.410156\"/>\n      </g>\n     </g>\n    </g>\n    <g id=\"ytick_6\">\n     <g id=\"line2d_9\">\n      <path d=\"M 59.024844 92.295226 \nL 282.224844 92.295226 \n\" clip-path=\"url(#p1242c8ce5b)\" style=\"fill: none; stroke: #ffffff; stroke-linecap: round\"/>\n     </g>\n     <g id=\"text_10\">\n      <!-- 0.8 -->\n      <g style=\"fill: #262626\" transform=\"translate(32.031406 96.474367)scale(0.11 -0.11)\">\n       <defs>\n        <path id=\"DejaVuSans-38\" d=\"M 2034 2216 \nQ 1584 2216 1326 1975 \nQ 1069 1734 1069 1313 \nQ 1069 891 1326 650 \nQ 1584 409 2034 409 \nQ 2484 409 2743 651 \nQ 3003 894 3003 1313 \nQ 3003 1734 2745 1975 \nQ 2488 2216 2034 2216 \nz\nM 1403 2484 \nQ 997 2584 770 2862 \nQ 544 3141 544 3541 \nQ 544 4100 942 4425 \nQ 1341 4750 2034 4750 \nQ 2731 4750 3128 4425 \nQ 3525 4100 3525 3541 \nQ 3525 3141 3298 2862 \nQ 3072 2584 2669 2484 \nQ 3125 2378 3379 2068 \nQ 3634 1759 3634 1313 \nQ 3634 634 3220 271 \nQ 2806 -91 2034 -91 \nQ 1263 -91 848 271 \nQ 434 634 434 1313 \nQ 434 1759 690 2068 \nQ 947 2378 1403 2484 \nz\nM 1172 3481 \nQ 1172 3119 1398 2916 \nQ 1625 2713 2034 2713 \nQ 2441 2713 2670 2916 \nQ 2900 3119 2900 3481 \nQ 2900 3844 2670 4047 \nQ 2441 4250 2034 4250 \nQ 1625 4250 1398 4047 \nQ 1172 3844 1172 3481 \nz\n\" transform=\"scale(0.015625)\"/>\n       </defs>\n       <use xlink:href=\"#DejaVuSans-30\"/>\n       <use xlink:href=\"#DejaVuSans-2e\" x=\"63.623047\"/>\n       <use xlink:href=\"#DejaVuSans-38\" x=\"95.410156\"/>\n      </g>\n     </g>\n    </g>\n    <g id=\"ytick_7\">\n     <g id=\"line2d_10\">\n      <path d=\"M 59.024844 64.966162 \nL 282.224844 64.966162 \n\" clip-path=\"url(#p1242c8ce5b)\" style=\"fill: none; stroke: #ffffff; stroke-linecap: round\"/>\n     </g>\n     <g id=\"text_11\">\n      <!-- 1.0 -->\n      <g style=\"fill: #262626\" transform=\"translate(32.031406 69.145303)scale(0.11 -0.11)\">\n       <use xlink:href=\"#DejaVuSans-31\"/>\n       <use xlink:href=\"#DejaVuSans-2e\" x=\"63.623047\"/>\n       <use xlink:href=\"#DejaVuSans-30\" x=\"95.410156\"/>\n      </g>\n     </g>\n    </g>\n    <g id=\"ytick_8\">\n     <g id=\"line2d_11\">\n      <path d=\"M 59.024844 37.637098 \nL 282.224844 37.637098 \n\" clip-path=\"url(#p1242c8ce5b)\" style=\"fill: none; stroke: #ffffff; stroke-linecap: round\"/>\n     </g>\n     <g id=\"text_12\">\n      <!-- 1.2 -->\n      <g style=\"fill: #262626\" transform=\"translate(32.031406 41.816239)scale(0.11 -0.11)\">\n       <use xlink:href=\"#DejaVuSans-31\"/>\n       <use xlink:href=\"#DejaVuSans-2e\" x=\"63.623047\"/>\n       <use xlink:href=\"#DejaVuSans-32\" x=\"95.410156\"/>\n      </g>\n     </g>\n    </g>\n    <g id=\"text_13\">\n     <!-- $x_2$ -->\n     <g style=\"fill: #262626\" transform=\"translate(16.318125 137.458125)rotate(-90)scale(0.12 -0.12)\">\n      <use xlink:href=\"#DejaVuSans-Oblique-78\" transform=\"translate(0 0.3125)\"/>\n      <use xlink:href=\"#DejaVuSans-32\" transform=\"translate(59.179688 -16.09375)scale(0.7)\"/>\n     </g>\n    </g>\n   </g>\n   <g id=\"PathCollection_1\">\n    <defs>\n     <path id=\"mb1d147082e\" d=\"M 0 3 \nC 0.795609 3 1.55874 2.683901 2.12132 2.12132 \nC 2.683901 1.55874 3 0.795609 3 0 \nC 3 -0.795609 2.683901 -1.55874 2.12132 -2.12132 \nC 1.55874 -2.683901 0.795609 -3 0 -3 \nC -0.795609 -3 -1.55874 -2.683901 -2.12132 -2.12132 \nC -2.683901 -1.55874 -3 -0.795609 -3 0 \nC -3 0.795609 -2.683901 1.55874 -2.12132 2.12132 \nC -1.55874 2.683901 -0.795609 3 0 3 \nz\n\" style=\"stroke: #333333\"/>\n    </defs>\n    <g clip-path=\"url(#p1242c8ce5b)\">\n     <use xlink:href=\"#mb1d147082e\" x=\"251.844383\" y=\"66.908729\" style=\"fill: #4c72b0; stroke: #333333\"/>\n     <use xlink:href=\"#mb1d147082e\" x=\"103.14919\" y=\"185.271032\" style=\"fill: #4c72b0; stroke: #333333\"/>\n     <use xlink:href=\"#mb1d147082e\" x=\"100.030773\" y=\"213.258103\" style=\"fill: #4c72b0; stroke: #333333\"/>\n     <use xlink:href=\"#mb1d147082e\" x=\"236.45731\" y=\"56.386132\" style=\"fill: #4c72b0; stroke: #333333\"/>\n     <use xlink:href=\"#mb1d147082e\" x=\"76.35218\" y=\"225.183932\" style=\"fill: #4c72b0; stroke: #333333\"/>\n     <use xlink:href=\"#mb1d147082e\" x=\"96.229606\" y=\"208.507387\" style=\"fill: #4c72b0; stroke: #333333\"/>\n     <use xlink:href=\"#mb1d147082e\" x=\"248.542194\" y=\"50.757691\" style=\"fill: #4c72b0; stroke: #333333\"/>\n     <use xlink:href=\"#mb1d147082e\" x=\"246.090652\" y=\"82.077199\" style=\"fill: #4c72b0; stroke: #333333\"/>\n     <use xlink:href=\"#mb1d147082e\" x=\"252.48186\" y=\"66.410551\" style=\"fill: #4c72b0; stroke: #333333\"/>\n     <use xlink:href=\"#mb1d147082e\" x=\"252.25247\" y=\"33.68149\" style=\"fill: #4c72b0; stroke: #333333\"/>\n     <use xlink:href=\"#mb1d147082e\" x=\"113.771016\" y=\"200.491429\" style=\"fill: #4c72b0; stroke: #333333\"/>\n     <use xlink:href=\"#mb1d147082e\" x=\"98.28858\" y=\"204.288803\" style=\"fill: #4c72b0; stroke: #333333\"/>\n     <use xlink:href=\"#mb1d147082e\" x=\"121.897485\" y=\"205.823269\" style=\"fill: #4c72b0; stroke: #333333\"/>\n     <use xlink:href=\"#mb1d147082e\" x=\"257.758374\" y=\"74.779462\" style=\"fill: #4c72b0; stroke: #333333\"/>\n     <use xlink:href=\"#mb1d147082e\" x=\"224.73536\" y=\"79.035432\" style=\"fill: #4c72b0; stroke: #333333\"/>\n     <use xlink:href=\"#mb1d147082e\" x=\"83.17123\" y=\"211.197536\" style=\"fill: #4c72b0; stroke: #333333\"/>\n     <use xlink:href=\"#mb1d147082e\" x=\"107.113415\" y=\"199.412655\" style=\"fill: #4c72b0; stroke: #333333\"/>\n     <use xlink:href=\"#mb1d147082e\" x=\"111.729419\" y=\"192.436193\" style=\"fill: #4c72b0; stroke: #333333\"/>\n     <use xlink:href=\"#mb1d147082e\" x=\"104.321813\" y=\"189.340169\" style=\"fill: #4c72b0; stroke: #333333\"/>\n     <use xlink:href=\"#mb1d147082e\" x=\"93.274102\" y=\"204.227158\" style=\"fill: #4c72b0; stroke: #333333\"/>\n     <use xlink:href=\"#mb1d147082e\" x=\"251.671665\" y=\"50.280184\" style=\"fill: #4c72b0; stroke: #333333\"/>\n     <use xlink:href=\"#mb1d147082e\" x=\"258.632159\" y=\"72.6143\" style=\"fill: #4c72b0; stroke: #333333\"/>\n     <use xlink:href=\"#mb1d147082e\" x=\"70.256985\" y=\"198.793668\" style=\"fill: #4c72b0; stroke: #333333\"/>\n     <use xlink:href=\"#mb1d147082e\" x=\"232.500643\" y=\"57.219155\" style=\"fill: #4c72b0; stroke: #333333\"/>\n     <use xlink:href=\"#mb1d147082e\" x=\"69.170298\" y=\"199.032285\" style=\"fill: #4c72b0; stroke: #333333\"/>\n     <use xlink:href=\"#mb1d147082e\" x=\"94.523172\" y=\"202.620642\" style=\"fill: #4c72b0; stroke: #333333\"/>\n     <use xlink:href=\"#mb1d147082e\" x=\"86.886346\" y=\"206.807895\" style=\"fill: #4c72b0; stroke: #333333\"/>\n     <use xlink:href=\"#mb1d147082e\" x=\"98.344017\" y=\"199.396311\" style=\"fill: #4c72b0; stroke: #333333\"/>\n     <use xlink:href=\"#mb1d147082e\" x=\"263.938411\" y=\"63.936803\" style=\"fill: #4c72b0; stroke: #333333\"/>\n     <use xlink:href=\"#mb1d147082e\" x=\"240.788464\" y=\"43.500914\" style=\"fill: #4c72b0; stroke: #333333\"/>\n     <use xlink:href=\"#mb1d147082e\" x=\"255.516726\" y=\"63.930075\" style=\"fill: #4c72b0; stroke: #333333\"/>\n     <use xlink:href=\"#mb1d147082e\" x=\"247.931819\" y=\"38.686601\" style=\"fill: #4c72b0; stroke: #333333\"/>\n     <use xlink:href=\"#mb1d147082e\" x=\"231.875281\" y=\"85.364569\" style=\"fill: #4c72b0; stroke: #333333\"/>\n     <use xlink:href=\"#mb1d147082e\" x=\"104.627861\" y=\"195.988783\" style=\"fill: #4c72b0; stroke: #333333\"/>\n     <use xlink:href=\"#mb1d147082e\" x=\"99.28104\" y=\"220.96657\" style=\"fill: #4c72b0; stroke: #333333\"/>\n     <use xlink:href=\"#mb1d147082e\" x=\"113.780614\" y=\"208.624375\" style=\"fill: #4c72b0; stroke: #333333\"/>\n     <use xlink:href=\"#mb1d147082e\" x=\"99.166495\" y=\"206.053977\" style=\"fill: #4c72b0; stroke: #333333\"/>\n     <use xlink:href=\"#mb1d147082e\" x=\"232.503094\" y=\"52.64327\" style=\"fill: #4c72b0; stroke: #333333\"/>\n     <use xlink:href=\"#mb1d147082e\" x=\"128.664937\" y=\"200.787982\" style=\"fill: #4c72b0; stroke: #333333\"/>\n     <use xlink:href=\"#mb1d147082e\" x=\"221.17772\" y=\"39.499653\" style=\"fill: #4c72b0; stroke: #333333\"/>\n     <use xlink:href=\"#mb1d147082e\" x=\"100.363568\" y=\"215.611106\" style=\"fill: #4c72b0; stroke: #333333\"/>\n     <use xlink:href=\"#mb1d147082e\" x=\"98.36316\" y=\"216.242958\" style=\"fill: #4c72b0; stroke: #333333\"/>\n     <use xlink:href=\"#mb1d147082e\" x=\"240.686782\" y=\"39.172367\" style=\"fill: #4c72b0; stroke: #333333\"/>\n     <use xlink:href=\"#mb1d147082e\" x=\"236.357316\" y=\"53.98721\" style=\"fill: #4c72b0; stroke: #333333\"/>\n     <use xlink:href=\"#mb1d147082e\" x=\"229.756305\" y=\"39.365005\" style=\"fill: #4c72b0; stroke: #333333\"/>\n     <use xlink:href=\"#mb1d147082e\" x=\"82.224506\" y=\"192.646997\" style=\"fill: #4c72b0; stroke: #333333\"/>\n     <use xlink:href=\"#mb1d147082e\" x=\"114.303823\" y=\"197.488442\" style=\"fill: #4c72b0; stroke: #333333\"/>\n     <use xlink:href=\"#mb1d147082e\" x=\"93.69817\" y=\"198.643771\" style=\"fill: #4c72b0; stroke: #333333\"/>\n     <use xlink:href=\"#mb1d147082e\" x=\"89.704911\" y=\"209.808145\" style=\"fill: #4c72b0; stroke: #333333\"/>\n     <use xlink:href=\"#mb1d147082e\" x=\"269.614279\" y=\"71.860696\" style=\"fill: #4c72b0; stroke: #333333\"/>\n     <use xlink:href=\"#mb1d147082e\" x=\"103.918807\" y=\"160.706658\" style=\"fill: #4c72b0; stroke: #333333\"/>\n     <use xlink:href=\"#mb1d147082e\" x=\"247.377629\" y=\"53.188443\" style=\"fill: #4c72b0; stroke: #333333\"/>\n     <use xlink:href=\"#mb1d147082e\" x=\"77.789496\" y=\"204.650877\" style=\"fill: #4c72b0; stroke: #333333\"/>\n     <use xlink:href=\"#mb1d147082e\" x=\"117.700581\" y=\"193.923198\" style=\"fill: #4c72b0; stroke: #333333\"/>\n     <use xlink:href=\"#mb1d147082e\" x=\"243.924894\" y=\"76.380546\" style=\"fill: #4c72b0; stroke: #333333\"/>\n     <use xlink:href=\"#mb1d147082e\" x=\"94.449149\" y=\"207.250464\" style=\"fill: #4c72b0; stroke: #333333\"/>\n     <use xlink:href=\"#mb1d147082e\" x=\"248.470931\" y=\"68.945815\" style=\"fill: #4c72b0; stroke: #333333\"/>\n     <use xlink:href=\"#mb1d147082e\" x=\"252.948986\" y=\"80.551453\" style=\"fill: #4c72b0; stroke: #333333\"/>\n     <use xlink:href=\"#mb1d147082e\" x=\"110.831014\" y=\"212.84607\" style=\"fill: #4c72b0; stroke: #333333\"/>\n     <use xlink:href=\"#mb1d147082e\" x=\"245.707014\" y=\"42.677827\" style=\"fill: #4c72b0; stroke: #333333\"/>\n     <use xlink:href=\"#mb1d147082e\" x=\"87.192384\" y=\"210.271805\" style=\"fill: #4c72b0; stroke: #333333\"/>\n     <use xlink:href=\"#mb1d147082e\" x=\"111.44425\" y=\"211.748545\" style=\"fill: #4c72b0; stroke: #333333\"/>\n     <use xlink:href=\"#mb1d147082e\" x=\"259.479011\" y=\"77.463432\" style=\"fill: #4c72b0; stroke: #333333\"/>\n     <use xlink:href=\"#mb1d147082e\" x=\"93.749537\" y=\"172.108006\" style=\"fill: #4c72b0; stroke: #333333\"/>\n     <use xlink:href=\"#mb1d147082e\" x=\"250.166985\" y=\"61.780983\" style=\"fill: #4c72b0; stroke: #333333\"/>\n     <use xlink:href=\"#mb1d147082e\" x=\"240.131542\" y=\"83.263123\" style=\"fill: #4c72b0; stroke: #333333\"/>\n     <use xlink:href=\"#mb1d147082e\" x=\"244.882319\" y=\"66.218881\" style=\"fill: #4c72b0; stroke: #333333\"/>\n     <use xlink:href=\"#mb1d147082e\" x=\"117.437843\" y=\"195.633362\" style=\"fill: #4c72b0; stroke: #333333\"/>\n     <use xlink:href=\"#mb1d147082e\" x=\"99.659847\" y=\"198.213293\" style=\"fill: #4c72b0; stroke: #333333\"/>\n     <use xlink:href=\"#mb1d147082e\" x=\"97.151238\" y=\"216.533523\" style=\"fill: #4c72b0; stroke: #333333\"/>\n     <use xlink:href=\"#mb1d147082e\" x=\"82.95038\" y=\"226.663212\" style=\"fill: #4c72b0; stroke: #333333\"/>\n     <use xlink:href=\"#mb1d147082e\" x=\"95.122116\" y=\"204.361128\" style=\"fill: #4c72b0; stroke: #333333\"/>\n     <use xlink:href=\"#mb1d147082e\" x=\"111.689871\" y=\"192.7442\" style=\"fill: #4c72b0; stroke: #333333\"/>\n     <use xlink:href=\"#mb1d147082e\" x=\"229.688618\" y=\"53.788512\" style=\"fill: #4c72b0; stroke: #333333\"/>\n     <use xlink:href=\"#mb1d147082e\" x=\"112.743167\" y=\"187.431676\" style=\"fill: #4c72b0; stroke: #333333\"/>\n     <use xlink:href=\"#mb1d147082e\" x=\"111.984422\" y=\"208.670291\" style=\"fill: #4c72b0; stroke: #333333\"/>\n     <use xlink:href=\"#mb1d147082e\" x=\"260.135781\" y=\"32.201761\" style=\"fill: #4c72b0; stroke: #333333\"/>\n     <use xlink:href=\"#mb1d147082e\" x=\"239.24942\" y=\"61.428644\" style=\"fill: #4c72b0; stroke: #333333\"/>\n     <use xlink:href=\"#mb1d147082e\" x=\"122.383762\" y=\"185.162311\" style=\"fill: #4c72b0; stroke: #333333\"/>\n     <use xlink:href=\"#mb1d147082e\" x=\"261.573546\" y=\"60.800981\" style=\"fill: #4c72b0; stroke: #333333\"/>\n     <use xlink:href=\"#mb1d147082e\" x=\"92.01691\" y=\"173.240017\" style=\"fill: #4c72b0; stroke: #333333\"/>\n     <use xlink:href=\"#mb1d147082e\" x=\"115.177573\" y=\"208.604731\" style=\"fill: #4c72b0; stroke: #333333\"/>\n     <use xlink:href=\"#mb1d147082e\" x=\"232.989959\" y=\"67.038759\" style=\"fill: #4c72b0; stroke: #333333\"/>\n     <use xlink:href=\"#mb1d147082e\" x=\"109.661422\" y=\"194.812694\" style=\"fill: #4c72b0; stroke: #333333\"/>\n     <use xlink:href=\"#mb1d147082e\" x=\"78.535669\" y=\"188.768419\" style=\"fill: #4c72b0; stroke: #333333\"/>\n     <use xlink:href=\"#mb1d147082e\" x=\"256.325142\" y=\"61.458404\" style=\"fill: #4c72b0; stroke: #333333\"/>\n     <use xlink:href=\"#mb1d147082e\" x=\"243.251769\" y=\"69.519943\" style=\"fill: #4c72b0; stroke: #333333\"/>\n     <use xlink:href=\"#mb1d147082e\" x=\"231.201618\" y=\"44.35254\" style=\"fill: #4c72b0; stroke: #333333\"/>\n     <use xlink:href=\"#mb1d147082e\" x=\"223.191295\" y=\"50.774779\" style=\"fill: #4c72b0; stroke: #333333\"/>\n     <use xlink:href=\"#mb1d147082e\" x=\"241.445209\" y=\"56.163245\" style=\"fill: #4c72b0; stroke: #333333\"/>\n     <use xlink:href=\"#mb1d147082e\" x=\"96.048467\" y=\"172.475442\" style=\"fill: #4c72b0; stroke: #333333\"/>\n     <use xlink:href=\"#mb1d147082e\" x=\"110.94765\" y=\"207.280515\" style=\"fill: #4c72b0; stroke: #333333\"/>\n     <use xlink:href=\"#mb1d147082e\" x=\"101.408037\" y=\"165.342325\" style=\"fill: #4c72b0; stroke: #333333\"/>\n     <use xlink:href=\"#mb1d147082e\" x=\"242.432892\" y=\"70.037546\" style=\"fill: #4c72b0; stroke: #333333\"/>\n     <use xlink:href=\"#mb1d147082e\" x=\"117.110372\" y=\"222.959349\" style=\"fill: #4c72b0; stroke: #333333\"/>\n     <use xlink:href=\"#mb1d147082e\" x=\"229.442503\" y=\"67.021704\" style=\"fill: #4c72b0; stroke: #333333\"/>\n     <use xlink:href=\"#mb1d147082e\" x=\"128.329936\" y=\"175.362828\" style=\"fill: #4c72b0; stroke: #333333\"/>\n     <use xlink:href=\"#mb1d147082e\" x=\"220.152869\" y=\"59.647887\" style=\"fill: #4c72b0; stroke: #333333\"/>\n     <use xlink:href=\"#mb1d147082e\" x=\"234.817457\" y=\"66.839792\" style=\"fill: #4c72b0; stroke: #333333\"/>\n     <use xlink:href=\"#mb1d147082e\" x=\"228.579355\" y=\"79.093691\" style=\"fill: #4c72b0; stroke: #333333\"/>\n     <use xlink:href=\"#mb1d147082e\" x=\"112.518042\" y=\"203.287346\" style=\"fill: #4c72b0; stroke: #333333\"/>\n     <use xlink:href=\"#mb1d147082e\" x=\"244.230174\" y=\"62.685093\" style=\"fill: #4c72b0; stroke: #333333\"/>\n     <use xlink:href=\"#mb1d147082e\" x=\"220.158276\" y=\"45.105419\" style=\"fill: #4c72b0; stroke: #333333\"/>\n     <use xlink:href=\"#mb1d147082e\" x=\"247.171411\" y=\"79.837057\" style=\"fill: #4c72b0; stroke: #333333\"/>\n     <use xlink:href=\"#mb1d147082e\" x=\"103.842211\" y=\"212.713279\" style=\"fill: #4c72b0; stroke: #333333\"/>\n    </g>\n   </g>\n   <g id=\"PathCollection_2\">\n    <defs>\n     <path id=\"ma830cb0452\" d=\"M 0 3 \nC 0.795609 3 1.55874 2.683901 2.12132 2.12132 \nC 2.683901 1.55874 3 0.795609 3 0 \nC 3 -0.795609 2.683901 -1.55874 2.12132 -2.12132 \nC 1.55874 -2.683901 0.795609 -3 0 -3 \nC -0.795609 -3 -1.55874 -2.683901 -2.12132 -2.12132 \nC -2.683901 -1.55874 -3 -0.795609 -3 0 \nC -3 0.795609 -2.683901 1.55874 -2.12132 2.12132 \nC -1.55874 2.683901 -0.795609 3 0 3 \nz\n\" style=\"stroke: #333333\"/>\n    </defs>\n    <g clip-path=\"url(#p1242c8ce5b)\">\n     <use xlink:href=\"#ma830cb0452\" x=\"234.129631\" y=\"188.780071\" style=\"fill: #dd8452; stroke: #333333\"/>\n     <use xlink:href=\"#ma830cb0452\" x=\"247.744895\" y=\"198.189234\" style=\"fill: #dd8452; stroke: #333333\"/>\n     <use xlink:href=\"#ma830cb0452\" x=\"238.128789\" y=\"206.363223\" style=\"fill: #dd8452; stroke: #333333\"/>\n     <use xlink:href=\"#ma830cb0452\" x=\"253.405819\" y=\"187.046075\" style=\"fill: #dd8452; stroke: #333333\"/>\n     <use xlink:href=\"#ma830cb0452\" x=\"230.824201\" y=\"197.739817\" style=\"fill: #dd8452; stroke: #333333\"/>\n     <use xlink:href=\"#ma830cb0452\" x=\"79.288469\" y=\"66.636004\" style=\"fill: #dd8452; stroke: #333333\"/>\n     <use xlink:href=\"#ma830cb0452\" x=\"92.598983\" y=\"75.360822\" style=\"fill: #dd8452; stroke: #333333\"/>\n     <use xlink:href=\"#ma830cb0452\" x=\"240.48713\" y=\"200.378978\" style=\"fill: #dd8452; stroke: #333333\"/>\n     <use xlink:href=\"#ma830cb0452\" x=\"118.039953\" y=\"58.824247\" style=\"fill: #dd8452; stroke: #333333\"/>\n     <use xlink:href=\"#ma830cb0452\" x=\"105.455836\" y=\"82.370514\" style=\"fill: #dd8452; stroke: #333333\"/>\n     <use xlink:href=\"#ma830cb0452\" x=\"93.486619\" y=\"52.235628\" style=\"fill: #dd8452; stroke: #333333\"/>\n     <use xlink:href=\"#ma830cb0452\" x=\"92.472107\" y=\"51.334026\" style=\"fill: #dd8452; stroke: #333333\"/>\n     <use xlink:href=\"#ma830cb0452\" x=\"71.862458\" y=\"76.450949\" style=\"fill: #dd8452; stroke: #333333\"/>\n     <use xlink:href=\"#ma830cb0452\" x=\"139.08154\" y=\"91.48951\" style=\"fill: #dd8452; stroke: #333333\"/>\n     <use xlink:href=\"#ma830cb0452\" x=\"133.421519\" y=\"68.06785\" style=\"fill: #dd8452; stroke: #333333\"/>\n     <use xlink:href=\"#ma830cb0452\" x=\"253.250177\" y=\"200.719989\" style=\"fill: #dd8452; stroke: #333333\"/>\n     <use xlink:href=\"#ma830cb0452\" x=\"246.151807\" y=\"186.403245\" style=\"fill: #dd8452; stroke: #333333\"/>\n     <use xlink:href=\"#ma830cb0452\" x=\"244.11495\" y=\"189.598746\" style=\"fill: #dd8452; stroke: #333333\"/>\n     <use xlink:href=\"#ma830cb0452\" x=\"239.348608\" y=\"216.183654\" style=\"fill: #dd8452; stroke: #333333\"/>\n     <use xlink:href=\"#ma830cb0452\" x=\"90.200835\" y=\"41.954416\" style=\"fill: #dd8452; stroke: #333333\"/>\n     <use xlink:href=\"#ma830cb0452\" x=\"116.066436\" y=\"74.805883\" style=\"fill: #dd8452; stroke: #333333\"/>\n     <use xlink:href=\"#ma830cb0452\" x=\"119.537515\" y=\"67.166786\" style=\"fill: #dd8452; stroke: #333333\"/>\n     <use xlink:href=\"#ma830cb0452\" x=\"104.731351\" y=\"68.583449\" style=\"fill: #dd8452; stroke: #333333\"/>\n     <use xlink:href=\"#ma830cb0452\" x=\"253.579578\" y=\"212.922\" style=\"fill: #dd8452; stroke: #333333\"/>\n     <use xlink:href=\"#ma830cb0452\" x=\"251.398012\" y=\"213.82317\" style=\"fill: #dd8452; stroke: #333333\"/>\n     <use xlink:href=\"#ma830cb0452\" x=\"96.000853\" y=\"38.240565\" style=\"fill: #dd8452; stroke: #333333\"/>\n     <use xlink:href=\"#ma830cb0452\" x=\"252.207855\" y=\"194.271498\" style=\"fill: #dd8452; stroke: #333333\"/>\n     <use xlink:href=\"#ma830cb0452\" x=\"242.13898\" y=\"209.91263\" style=\"fill: #dd8452; stroke: #333333\"/>\n     <use xlink:href=\"#ma830cb0452\" x=\"252.33542\" y=\"190.637459\" style=\"fill: #dd8452; stroke: #333333\"/>\n     <use xlink:href=\"#ma830cb0452\" x=\"243.219218\" y=\"189.493701\" style=\"fill: #dd8452; stroke: #333333\"/>\n     <use xlink:href=\"#ma830cb0452\" x=\"260.062083\" y=\"208.961782\" style=\"fill: #dd8452; stroke: #333333\"/>\n     <use xlink:href=\"#ma830cb0452\" x=\"238.760087\" y=\"203.777964\" style=\"fill: #dd8452; stroke: #333333\"/>\n     <use xlink:href=\"#ma830cb0452\" x=\"102.938047\" y=\"78.106008\" style=\"fill: #dd8452; stroke: #333333\"/>\n     <use xlink:href=\"#ma830cb0452\" x=\"112.549035\" y=\"46.938986\" style=\"fill: #dd8452; stroke: #333333\"/>\n     <use xlink:href=\"#ma830cb0452\" x=\"245.294981\" y=\"194.905384\" style=\"fill: #dd8452; stroke: #333333\"/>\n     <use xlink:href=\"#ma830cb0452\" x=\"258.948463\" y=\"206.831951\" style=\"fill: #dd8452; stroke: #333333\"/>\n     <use xlink:href=\"#ma830cb0452\" x=\"146.322566\" y=\"63.829667\" style=\"fill: #dd8452; stroke: #333333\"/>\n     <use xlink:href=\"#ma830cb0452\" x=\"234.177772\" y=\"191.108529\" style=\"fill: #dd8452; stroke: #333333\"/>\n     <use xlink:href=\"#ma830cb0452\" x=\"72.418966\" y=\"54.475061\" style=\"fill: #dd8452; stroke: #333333\"/>\n     <use xlink:href=\"#ma830cb0452\" x=\"244.224037\" y=\"184.994493\" style=\"fill: #dd8452; stroke: #333333\"/>\n     <use xlink:href=\"#ma830cb0452\" x=\"256.266926\" y=\"204.581684\" style=\"fill: #dd8452; stroke: #333333\"/>\n     <use xlink:href=\"#ma830cb0452\" x=\"98.715945\" y=\"85.310879\" style=\"fill: #dd8452; stroke: #333333\"/>\n     <use xlink:href=\"#ma830cb0452\" x=\"113.927151\" y=\"69.876819\" style=\"fill: #dd8452; stroke: #333333\"/>\n     <use xlink:href=\"#ma830cb0452\" x=\"249.503716\" y=\"194.618575\" style=\"fill: #dd8452; stroke: #333333\"/>\n     <use xlink:href=\"#ma830cb0452\" x=\"99.111035\" y=\"75.899846\" style=\"fill: #dd8452; stroke: #333333\"/>\n     <use xlink:href=\"#ma830cb0452\" x=\"103.024454\" y=\"85.505725\" style=\"fill: #dd8452; stroke: #333333\"/>\n     <use xlink:href=\"#ma830cb0452\" x=\"127.066262\" y=\"53.25264\" style=\"fill: #dd8452; stroke: #333333\"/>\n     <use xlink:href=\"#ma830cb0452\" x=\"94.192684\" y=\"67.475681\" style=\"fill: #dd8452; stroke: #333333\"/>\n     <use xlink:href=\"#ma830cb0452\" x=\"80.900531\" y=\"37.805866\" style=\"fill: #dd8452; stroke: #333333\"/>\n     <use xlink:href=\"#ma830cb0452\" x=\"262.947437\" y=\"193.852168\" style=\"fill: #dd8452; stroke: #333333\"/>\n     <use xlink:href=\"#ma830cb0452\" x=\"212.926664\" y=\"214.220854\" style=\"fill: #dd8452; stroke: #333333\"/>\n     <use xlink:href=\"#ma830cb0452\" x=\"230.940055\" y=\"199.047419\" style=\"fill: #dd8452; stroke: #333333\"/>\n     <use xlink:href=\"#ma830cb0452\" x=\"109.963293\" y=\"69.825475\" style=\"fill: #dd8452; stroke: #333333\"/>\n     <use xlink:href=\"#ma830cb0452\" x=\"125.152349\" y=\"53.067136\" style=\"fill: #dd8452; stroke: #333333\"/>\n     <use xlink:href=\"#ma830cb0452\" x=\"97.368922\" y=\"73.641762\" style=\"fill: #dd8452; stroke: #333333\"/>\n     <use xlink:href=\"#ma830cb0452\" x=\"106.69639\" y=\"76.857361\" style=\"fill: #dd8452; stroke: #333333\"/>\n     <use xlink:href=\"#ma830cb0452\" x=\"235.848253\" y=\"214.208434\" style=\"fill: #dd8452; stroke: #333333\"/>\n     <use xlink:href=\"#ma830cb0452\" x=\"263.474525\" y=\"201.983746\" style=\"fill: #dd8452; stroke: #333333\"/>\n     <use xlink:href=\"#ma830cb0452\" x=\"121.076133\" y=\"66.289089\" style=\"fill: #dd8452; stroke: #333333\"/>\n     <use xlink:href=\"#ma830cb0452\" x=\"97.616732\" y=\"85.676837\" style=\"fill: #dd8452; stroke: #333333\"/>\n     <use xlink:href=\"#ma830cb0452\" x=\"128.215646\" y=\"42.92629\" style=\"fill: #dd8452; stroke: #333333\"/>\n     <use xlink:href=\"#ma830cb0452\" x=\"104.833245\" y=\"82.420212\" style=\"fill: #dd8452; stroke: #333333\"/>\n     <use xlink:href=\"#ma830cb0452\" x=\"242.397856\" y=\"229.874489\" style=\"fill: #dd8452; stroke: #333333\"/>\n     <use xlink:href=\"#ma830cb0452\" x=\"89.113924\" y=\"73.482289\" style=\"fill: #dd8452; stroke: #333333\"/>\n     <use xlink:href=\"#ma830cb0452\" x=\"90.006208\" y=\"70.834415\" style=\"fill: #dd8452; stroke: #333333\"/>\n     <use xlink:href=\"#ma830cb0452\" x=\"105.910332\" y=\"84.516095\" style=\"fill: #dd8452; stroke: #333333\"/>\n     <use xlink:href=\"#ma830cb0452\" x=\"87.966133\" y=\"70.913606\" style=\"fill: #dd8452; stroke: #333333\"/>\n     <use xlink:href=\"#ma830cb0452\" x=\"75.660004\" y=\"57.021321\" style=\"fill: #dd8452; stroke: #333333\"/>\n     <use xlink:href=\"#ma830cb0452\" x=\"231.488108\" y=\"205.428852\" style=\"fill: #dd8452; stroke: #333333\"/>\n     <use xlink:href=\"#ma830cb0452\" x=\"127.576731\" y=\"78.223756\" style=\"fill: #dd8452; stroke: #333333\"/>\n     <use xlink:href=\"#ma830cb0452\" x=\"104.404721\" y=\"82.065511\" style=\"fill: #dd8452; stroke: #333333\"/>\n     <use xlink:href=\"#ma830cb0452\" x=\"253.893229\" y=\"218.445805\" style=\"fill: #dd8452; stroke: #333333\"/>\n     <use xlink:href=\"#ma830cb0452\" x=\"272.079389\" y=\"207.004447\" style=\"fill: #dd8452; stroke: #333333\"/>\n     <use xlink:href=\"#ma830cb0452\" x=\"269.336865\" y=\"220.095336\" style=\"fill: #dd8452; stroke: #333333\"/>\n     <use xlink:href=\"#ma830cb0452\" x=\"116.821197\" y=\"48.451276\" style=\"fill: #dd8452; stroke: #333333\"/>\n     <use xlink:href=\"#ma830cb0452\" x=\"121.783928\" y=\"61.118363\" style=\"fill: #dd8452; stroke: #333333\"/>\n     <use xlink:href=\"#ma830cb0452\" x=\"250.157497\" y=\"185.615457\" style=\"fill: #dd8452; stroke: #333333\"/>\n     <use xlink:href=\"#ma830cb0452\" x=\"220.731432\" y=\"218.116048\" style=\"fill: #dd8452; stroke: #333333\"/>\n     <use xlink:href=\"#ma830cb0452\" x=\"76.567062\" y=\"36.229737\" style=\"fill: #dd8452; stroke: #333333\"/>\n     <use xlink:href=\"#ma830cb0452\" x=\"100.457928\" y=\"62.039089\" style=\"fill: #dd8452; stroke: #333333\"/>\n     <use xlink:href=\"#ma830cb0452\" x=\"125.179595\" y=\"62.147315\" style=\"fill: #dd8452; stroke: #333333\"/>\n     <use xlink:href=\"#ma830cb0452\" x=\"243.81679\" y=\"199.102297\" style=\"fill: #dd8452; stroke: #333333\"/>\n     <use xlink:href=\"#ma830cb0452\" x=\"260.861229\" y=\"193.108983\" style=\"fill: #dd8452; stroke: #333333\"/>\n     <use xlink:href=\"#ma830cb0452\" x=\"115.972543\" y=\"63.708377\" style=\"fill: #dd8452; stroke: #333333\"/>\n     <use xlink:href=\"#ma830cb0452\" x=\"112.608654\" y=\"71.487131\" style=\"fill: #dd8452; stroke: #333333\"/>\n     <use xlink:href=\"#ma830cb0452\" x=\"246.8653\" y=\"191.856803\" style=\"fill: #dd8452; stroke: #333333\"/>\n     <use xlink:href=\"#ma830cb0452\" x=\"123.655015\" y=\"60.026257\" style=\"fill: #dd8452; stroke: #333333\"/>\n     <use xlink:href=\"#ma830cb0452\" x=\"114.324059\" y=\"52.93125\" style=\"fill: #dd8452; stroke: #333333\"/>\n     <use xlink:href=\"#ma830cb0452\" x=\"91.477109\" y=\"46.400019\" style=\"fill: #dd8452; stroke: #333333\"/>\n     <use xlink:href=\"#ma830cb0452\" x=\"116.388018\" y=\"59.829237\" style=\"fill: #dd8452; stroke: #333333\"/>\n     <use xlink:href=\"#ma830cb0452\" x=\"133.303209\" y=\"64.758228\" style=\"fill: #dd8452; stroke: #333333\"/>\n     <use xlink:href=\"#ma830cb0452\" x=\"102.085104\" y=\"76.823935\" style=\"fill: #dd8452; stroke: #333333\"/>\n     <use xlink:href=\"#ma830cb0452\" x=\"103.699985\" y=\"67.513627\" style=\"fill: #dd8452; stroke: #333333\"/>\n     <use xlink:href=\"#ma830cb0452\" x=\"104.620888\" y=\"50.477954\" style=\"fill: #dd8452; stroke: #333333\"/>\n     <use xlink:href=\"#ma830cb0452\" x=\"79.74056\" y=\"52.45068\" style=\"fill: #dd8452; stroke: #333333\"/>\n    </g>\n   </g>\n   <g id=\"patch_3\">\n    <path d=\"M 59.024844 239.758125 \nL 59.024844 22.318125 \n\" style=\"fill: none; stroke: #ffffff; stroke-width: 1.25; stroke-linejoin: miter; stroke-linecap: square\"/>\n   </g>\n   <g id=\"patch_4\">\n    <path d=\"M 282.224844 239.758125 \nL 282.224844 22.318125 \n\" style=\"fill: none; stroke: #ffffff; stroke-width: 1.25; stroke-linejoin: miter; stroke-linecap: square\"/>\n   </g>\n   <g id=\"patch_5\">\n    <path d=\"M 59.024844 239.758125 \nL 282.224844 239.758125 \n\" style=\"fill: none; stroke: #ffffff; stroke-width: 1.25; stroke-linejoin: miter; stroke-linecap: square\"/>\n   </g>\n   <g id=\"patch_6\">\n    <path d=\"M 59.024844 22.318125 \nL 282.224844 22.318125 \n\" style=\"fill: none; stroke: #ffffff; stroke-width: 1.25; stroke-linejoin: miter; stroke-linecap: square\"/>\n   </g>\n   <g id=\"text_14\">\n    <!-- Dataset samples -->\n    <g style=\"fill: #262626\" transform=\"translate(120.282031 16.318125)scale(0.12 -0.12)\">\n     <defs>\n      <path id=\"DejaVuSans-44\" d=\"M 1259 4147 \nL 1259 519 \nL 2022 519 \nQ 2988 519 3436 956 \nQ 3884 1394 3884 2338 \nQ 3884 3275 3436 3711 \nQ 2988 4147 2022 4147 \nL 1259 4147 \nz\nM 628 4666 \nL 1925 4666 \nQ 3281 4666 3915 4102 \nQ 4550 3538 4550 2338 \nQ 4550 1131 3912 565 \nQ 3275 0 1925 0 \nL 628 0 \nL 628 4666 \nz\n\" transform=\"scale(0.015625)\"/>\n      <path id=\"DejaVuSans-61\" d=\"M 2194 1759 \nQ 1497 1759 1228 1600 \nQ 959 1441 959 1056 \nQ 959 750 1161 570 \nQ 1363 391 1709 391 \nQ 2188 391 2477 730 \nQ 2766 1069 2766 1631 \nL 2766 1759 \nL 2194 1759 \nz\nM 3341 1997 \nL 3341 0 \nL 2766 0 \nL 2766 531 \nQ 2569 213 2275 61 \nQ 1981 -91 1556 -91 \nQ 1019 -91 701 211 \nQ 384 513 384 1019 \nQ 384 1609 779 1909 \nQ 1175 2209 1959 2209 \nL 2766 2209 \nL 2766 2266 \nQ 2766 2663 2505 2880 \nQ 2244 3097 1772 3097 \nQ 1472 3097 1187 3025 \nQ 903 2953 641 2809 \nL 641 3341 \nQ 956 3463 1253 3523 \nQ 1550 3584 1831 3584 \nQ 2591 3584 2966 3190 \nQ 3341 2797 3341 1997 \nz\n\" transform=\"scale(0.015625)\"/>\n      <path id=\"DejaVuSans-74\" d=\"M 1172 4494 \nL 1172 3500 \nL 2356 3500 \nL 2356 3053 \nL 1172 3053 \nL 1172 1153 \nQ 1172 725 1289 603 \nQ 1406 481 1766 481 \nL 2356 481 \nL 2356 0 \nL 1766 0 \nQ 1100 0 847 248 \nQ 594 497 594 1153 \nL 594 3053 \nL 172 3053 \nL 172 3500 \nL 594 3500 \nL 594 4494 \nL 1172 4494 \nz\n\" transform=\"scale(0.015625)\"/>\n      <path id=\"DejaVuSans-73\" d=\"M 2834 3397 \nL 2834 2853 \nQ 2591 2978 2328 3040 \nQ 2066 3103 1784 3103 \nQ 1356 3103 1142 2972 \nQ 928 2841 928 2578 \nQ 928 2378 1081 2264 \nQ 1234 2150 1697 2047 \nL 1894 2003 \nQ 2506 1872 2764 1633 \nQ 3022 1394 3022 966 \nQ 3022 478 2636 193 \nQ 2250 -91 1575 -91 \nQ 1294 -91 989 -36 \nQ 684 19 347 128 \nL 347 722 \nQ 666 556 975 473 \nQ 1284 391 1588 391 \nQ 1994 391 2212 530 \nQ 2431 669 2431 922 \nQ 2431 1156 2273 1281 \nQ 2116 1406 1581 1522 \nL 1381 1569 \nQ 847 1681 609 1914 \nQ 372 2147 372 2553 \nQ 372 3047 722 3315 \nQ 1072 3584 1716 3584 \nQ 2034 3584 2315 3537 \nQ 2597 3491 2834 3397 \nz\n\" transform=\"scale(0.015625)\"/>\n      <path id=\"DejaVuSans-65\" d=\"M 3597 1894 \nL 3597 1613 \nL 953 1613 \nQ 991 1019 1311 708 \nQ 1631 397 2203 397 \nQ 2534 397 2845 478 \nQ 3156 559 3463 722 \nL 3463 178 \nQ 3153 47 2828 -22 \nQ 2503 -91 2169 -91 \nQ 1331 -91 842 396 \nQ 353 884 353 1716 \nQ 353 2575 817 3079 \nQ 1281 3584 2069 3584 \nQ 2775 3584 3186 3129 \nQ 3597 2675 3597 1894 \nz\nM 3022 2063 \nQ 3016 2534 2758 2815 \nQ 2500 3097 2075 3097 \nQ 1594 3097 1305 2825 \nQ 1016 2553 972 2059 \nL 3022 2063 \nz\n\" transform=\"scale(0.015625)\"/>\n      <path id=\"DejaVuSans-20\" transform=\"scale(0.015625)\"/>\n      <path id=\"DejaVuSans-6d\" d=\"M 3328 2828 \nQ 3544 3216 3844 3400 \nQ 4144 3584 4550 3584 \nQ 5097 3584 5394 3201 \nQ 5691 2819 5691 2113 \nL 5691 0 \nL 5113 0 \nL 5113 2094 \nQ 5113 2597 4934 2840 \nQ 4756 3084 4391 3084 \nQ 3944 3084 3684 2787 \nQ 3425 2491 3425 1978 \nL 3425 0 \nL 2847 0 \nL 2847 2094 \nQ 2847 2600 2669 2842 \nQ 2491 3084 2119 3084 \nQ 1678 3084 1418 2786 \nQ 1159 2488 1159 1978 \nL 1159 0 \nL 581 0 \nL 581 3500 \nL 1159 3500 \nL 1159 2956 \nQ 1356 3278 1631 3431 \nQ 1906 3584 2284 3584 \nQ 2666 3584 2933 3390 \nQ 3200 3197 3328 2828 \nz\n\" transform=\"scale(0.015625)\"/>\n      <path id=\"DejaVuSans-70\" d=\"M 1159 525 \nL 1159 -1331 \nL 581 -1331 \nL 581 3500 \nL 1159 3500 \nL 1159 2969 \nQ 1341 3281 1617 3432 \nQ 1894 3584 2278 3584 \nQ 2916 3584 3314 3078 \nQ 3713 2572 3713 1747 \nQ 3713 922 3314 415 \nQ 2916 -91 2278 -91 \nQ 1894 -91 1617 61 \nQ 1341 213 1159 525 \nz\nM 3116 1747 \nQ 3116 2381 2855 2742 \nQ 2594 3103 2138 3103 \nQ 1681 3103 1420 2742 \nQ 1159 2381 1159 1747 \nQ 1159 1113 1420 752 \nQ 1681 391 2138 391 \nQ 2594 391 2855 752 \nQ 3116 1113 3116 1747 \nz\n\" transform=\"scale(0.015625)\"/>\n      <path id=\"DejaVuSans-6c\" d=\"M 603 4863 \nL 1178 4863 \nL 1178 0 \nL 603 0 \nL 603 4863 \nz\n\" transform=\"scale(0.015625)\"/>\n     </defs>\n     <use xlink:href=\"#DejaVuSans-44\"/>\n     <use xlink:href=\"#DejaVuSans-61\" x=\"77.001953\"/>\n     <use xlink:href=\"#DejaVuSans-74\" x=\"138.28125\"/>\n     <use xlink:href=\"#DejaVuSans-61\" x=\"177.490234\"/>\n     <use xlink:href=\"#DejaVuSans-73\" x=\"238.769531\"/>\n     <use xlink:href=\"#DejaVuSans-65\" x=\"290.869141\"/>\n     <use xlink:href=\"#DejaVuSans-74\" x=\"352.392578\"/>\n     <use xlink:href=\"#DejaVuSans-20\" x=\"391.601562\"/>\n     <use xlink:href=\"#DejaVuSans-73\" x=\"423.388672\"/>\n     <use xlink:href=\"#DejaVuSans-61\" x=\"475.488281\"/>\n     <use xlink:href=\"#DejaVuSans-6d\" x=\"536.767578\"/>\n     <use xlink:href=\"#DejaVuSans-70\" x=\"634.179688\"/>\n     <use xlink:href=\"#DejaVuSans-6c\" x=\"697.65625\"/>\n     <use xlink:href=\"#DejaVuSans-65\" x=\"725.439453\"/>\n     <use xlink:href=\"#DejaVuSans-73\" x=\"786.962891\"/>\n    </g>\n   </g>\n   <g id=\"legend_1\">\n    <g id=\"patch_7\">\n     <path d=\"M 199.891562 148.834063 \nL 274.524844 148.834063 \nQ 276.724844 148.834063 276.724844 146.634063 \nL 276.724844 115.442187 \nQ 276.724844 113.242188 274.524844 113.242188 \nL 199.891562 113.242188 \nQ 197.691562 113.242188 197.691562 115.442187 \nL 197.691562 146.634063 \nQ 197.691562 148.834063 199.891562 148.834063 \nz\n\" style=\"fill: #eaeaf2; opacity: 0.8; stroke: #cccccc; stroke-linejoin: miter\"/>\n    </g>\n    <g id=\"PathCollection_3\">\n     <g>\n      <use xlink:href=\"#mb1d147082e\" x=\"213.091562\" y=\"123.112969\" style=\"fill: #4c72b0; stroke: #333333\"/>\n     </g>\n    </g>\n    <g id=\"text_15\">\n     <!-- Class 0 -->\n     <g style=\"fill: #262626\" transform=\"translate(232.891562 126.000469)scale(0.11 -0.11)\">\n      <defs>\n       <path id=\"DejaVuSans-43\" d=\"M 4122 4306 \nL 4122 3641 \nQ 3803 3938 3442 4084 \nQ 3081 4231 2675 4231 \nQ 1875 4231 1450 3742 \nQ 1025 3253 1025 2328 \nQ 1025 1406 1450 917 \nQ 1875 428 2675 428 \nQ 3081 428 3442 575 \nQ 3803 722 4122 1019 \nL 4122 359 \nQ 3791 134 3420 21 \nQ 3050 -91 2638 -91 \nQ 1578 -91 968 557 \nQ 359 1206 359 2328 \nQ 359 3453 968 4101 \nQ 1578 4750 2638 4750 \nQ 3056 4750 3426 4639 \nQ 3797 4528 4122 4306 \nz\n\" transform=\"scale(0.015625)\"/>\n      </defs>\n      <use xlink:href=\"#DejaVuSans-43\"/>\n      <use xlink:href=\"#DejaVuSans-6c\" x=\"69.824219\"/>\n      <use xlink:href=\"#DejaVuSans-61\" x=\"97.607422\"/>\n      <use xlink:href=\"#DejaVuSans-73\" x=\"158.886719\"/>\n      <use xlink:href=\"#DejaVuSans-73\" x=\"210.986328\"/>\n      <use xlink:href=\"#DejaVuSans-20\" x=\"263.085938\"/>\n      <use xlink:href=\"#DejaVuSans-30\" x=\"294.873047\"/>\n     </g>\n    </g>\n    <g id=\"PathCollection_4\">\n     <g>\n      <use xlink:href=\"#ma830cb0452\" x=\"213.091562\" y=\"139.258906\" style=\"fill: #dd8452; stroke: #333333\"/>\n     </g>\n    </g>\n    <g id=\"text_16\">\n     <!-- Class 1 -->\n     <g style=\"fill: #262626\" transform=\"translate(232.891562 142.146406)scale(0.11 -0.11)\">\n      <use xlink:href=\"#DejaVuSans-43\"/>\n      <use xlink:href=\"#DejaVuSans-6c\" x=\"69.824219\"/>\n      <use xlink:href=\"#DejaVuSans-61\" x=\"97.607422\"/>\n      <use xlink:href=\"#DejaVuSans-73\" x=\"158.886719\"/>\n      <use xlink:href=\"#DejaVuSans-73\" x=\"210.986328\"/>\n      <use xlink:href=\"#DejaVuSans-20\" x=\"263.085938\"/>\n      <use xlink:href=\"#DejaVuSans-31\" x=\"294.873047\"/>\n     </g>\n    </g>\n   </g>\n  </g>\n </g>\n <defs>\n  <clipPath id=\"p1242c8ce5b\">\n   <rect x=\"59.024844\" y=\"22.318125\" width=\"223.2\" height=\"217.44\"/>\n  </clipPath>\n </defs>\n</svg>\n",
      "text/plain": [
       "<Figure size 288x288 with 1 Axes>"
      ]
     },
     "metadata": {},
     "output_type": "display_data"
    }
   ],
   "source": [
    "visualize_samples(dataset.data, dataset.label)\n",
    "plt.show()"
   ]
  },
  {
   "cell_type": "code",
   "execution_count": null,
   "metadata": {},
   "outputs": [],
   "source": [
    "# now we will create a data loader to load the data in batches"
   ]
  }
 ],
 "metadata": {
  "kernelspec": {
   "display_name": "base",
   "language": "python",
   "name": "python3"
  },
  "language_info": {
   "codemirror_mode": {
    "name": "ipython",
    "version": 3
   },
   "file_extension": ".py",
   "mimetype": "text/x-python",
   "name": "python",
   "nbconvert_exporter": "python",
   "pygments_lexer": "ipython3",
   "version": "3.9.12"
  },
  "orig_nbformat": 4,
  "vscode": {
   "interpreter": {
    "hash": "a15702a29ea01ae7aa6b51d803dd08c0ac5dbedc153ed7a5fc67a3e004dd827d"
   }
  }
 },
 "nbformat": 4,
 "nbformat_minor": 2
}
